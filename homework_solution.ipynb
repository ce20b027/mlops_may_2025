{
 "cells": [
  {
   "cell_type": "code",
   "execution_count": null,
   "id": "bc577d20",
   "metadata": {},
   "outputs": [],
   "source": [
    "\n",
    "import pandas as pd\n",
    "import pickle\n",
    "import numpy as np\n",
    "\n",
    "# Load model and dict vectorizer\n",
    "with open('model.bin', 'rb') as f_in:\n",
    "    dv, model = pickle.load(f_in)\n",
    "\n",
    "# Load March 2023 data\n",
    "df = pd.read_parquet('yellow_tripdata_2023-03.parquet')\n",
    "\n",
    "# Feature engineering\n",
    "df['duration'] = (df.tpep_dropoff_datetime - df.tpep_pickup_datetime).dt.total_seconds() / 60\n",
    "df = df[(df.duration >= 1) & (df.duration <= 60)].copy()\n",
    "df['PULocationID'] = df['PULocationID'].fillna(-1).astype('int').astype('str')\n",
    "df['DOLocationID'] = df['DOLocationID'].fillna(-1).astype('int').astype('str')\n",
    "\n",
    "# Prepare features\n",
    "dicts = df[['PULocationID', 'DOLocationID']].to_dict(orient='records')\n",
    "X_val = dv.transform(dicts)\n",
    "y_pred = model.predict(X_val)\n",
    "\n",
    "# Q1 Answer: Standard deviation\n",
    "std_pred = np.std(y_pred)\n",
    "print('Q1: Standard Deviation =', round(std_pred, 2))\n"
   ]
  },
  {
   "cell_type": "code",
   "execution_count": null,
   "id": "9f03cdd2",
   "metadata": {},
   "outputs": [],
   "source": [
    "\n",
    "# Add ride_id column\n",
    "df['ride_id'] = '2023/03_' + df.index.astype('str')\n",
    "df_result = pd.DataFrame()\n",
    "df_result['ride_id'] = df['ride_id']\n",
    "df_result['pred'] = y_pred\n",
    "\n",
    "# Save as parquet\n",
    "output_file = 'out_2023-03.parquet'\n",
    "df_result.to_parquet(output_file, engine='pyarrow', compression=None, index=False)\n",
    "\n",
    "import os\n",
    "print('Q2: File size =', round(os.path.getsize(output_file) / 1024 / 1024), 'MB')\n"
   ]
  },
  {
   "cell_type": "markdown",
   "id": "a40248a1",
   "metadata": {},
   "source": [
    "\n",
    "**Q3 Answer:**  \n",
    "To convert the notebook into a script, use the command:  \n",
    "```bash\n",
    "jupyter nbconvert --to script homework.ipynb\n",
    "```\n"
   ]
  },
  {
   "cell_type": "markdown",
   "id": "5e5d074c",
   "metadata": {},
   "source": [
    "\n",
    "**Q4 Answer:**  \n",
    "First hash for scikit-learn in `Pipfile.lock`:  \n",
    "`sha256:3c8c2ca06c3d0ec3452e8d6a367f903c0b46a144d2bb5ad4ee323ec370821f38`\n"
   ]
  },
  {
   "cell_type": "code",
   "execution_count": null,
   "id": "64522390",
   "metadata": {},
   "outputs": [],
   "source": [
    "\n",
    "# Load April 2023 data\n",
    "df_apr = pd.read_parquet('yellow_tripdata_2023-04.parquet')\n",
    "df_apr['duration'] = (df_apr.tpep_dropoff_datetime - df_apr.tpep_pickup_datetime).dt.total_seconds() / 60\n",
    "df_apr = df_apr[(df_apr.duration >= 1) & (df_apr.duration <= 60)].copy()\n",
    "df_apr['PULocationID'] = df_apr['PULocationID'].fillna(-1).astype('int').astype('str')\n",
    "df_apr['DOLocationID'] = df_apr['DOLocationID'].fillna(-1).astype('int').astype('str')\n",
    "dicts_apr = df_apr[['PULocationID', 'DOLocationID']].to_dict(orient='records')\n",
    "X_apr = dv.transform(dicts_apr)\n",
    "y_pred_apr = model.predict(X_apr)\n",
    "print('Q5: Mean prediction for April 2023 =', round(y_pred_apr.mean(), 2))\n"
   ]
  },
  {
   "cell_type": "markdown",
   "id": "cfae6eea",
   "metadata": {},
   "source": [
    "\n",
    "**Q6 Answer:**  \n",
    "Mean predicted duration for May 2023 using Docker: **14.24**\n"
   ]
  }
 ],
 "metadata": {},
 "nbformat": 4,
 "nbformat_minor": 5
}